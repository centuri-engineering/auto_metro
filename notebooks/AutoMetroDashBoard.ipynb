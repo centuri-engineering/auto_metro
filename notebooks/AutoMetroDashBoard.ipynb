{
 "cells": [
  {
   "cell_type": "code",
   "execution_count": 1,
   "metadata": {},
   "outputs": [],
   "source": [
    "from pathlib import Path\n",
    "import numpy as np\n",
    "import pandas as pd\n",
    "from omero_utils import widgets\n",
    "\n"
   ]
  },
  {
   "cell_type": "code",
   "execution_count": 2,
   "metadata": {},
   "outputs": [],
   "source": [
    "base = Path(\"/home/guillaume/AmuBox/DataExchange/\")\n",
    "measure_hdf = base / \"measures_0_2020-04-29.hf5\"\n",
    "measures_ = pd.read_hdf(measure_hdf)\n",
    "\n",
    "\n",
    "measures = measures_[\n",
    "    (measures_.SNR > 0.4)\n",
    "    & (measures_.resolution < 20)\n",
    "    & (measures_.resolution > 2)\n",
    "].groupby('Id').apply(lambda df: df.loc[df[\"resolution\"].idxmin()])\n"
   ]
  },
  {
   "cell_type": "markdown",
   "metadata": {},
   "source": [
    "## Automated image quality assesment"
   ]
  },
  {
   "cell_type": "code",
   "execution_count": 3,
   "metadata": {
    "scrolled": false
   },
   "outputs": [
    {
     "data": {
      "application/vnd.jupyter.widget-view+json": {
       "model_id": "1b09682bbb2f476b8902ec6feafc3ba5",
       "version_major": 2,
       "version_minor": 0
      },
      "text/plain": [
       "ImageScatterViz(children=(OMEConnect(children=(Text(value='', description='OME loggin'), Password(description=…"
      ]
     },
     "metadata": {},
     "output_type": "display_data"
    }
   ],
   "source": [
    "sc = widgets.ImageScatterViz(\n",
    "    measures,\n",
    "    x='AquisitionDate',\n",
    "    y='SNR',\n",
    "    c='resolution',\n",
    "    host=\"139.124.86.50\",\n",
    "    mouseover=False)\n",
    "sc"
   ]
  },
  {
   "cell_type": "code",
   "execution_count": 5,
   "metadata": {},
   "outputs": [
    {
     "data": {
      "text/plain": [
       "True"
      ]
     },
     "execution_count": 5,
     "metadata": {},
     "output_type": "execute_result"
    }
   ],
   "source": [
    "sc.conn.connect()"
   ]
  }
 ],
 "metadata": {
  "kernelspec": {
   "display_name": "Python 3",
   "language": "python",
   "name": "python3"
  },
  "language_info": {
   "codemirror_mode": {
    "name": "ipython",
    "version": 3
   },
   "file_extension": ".py",
   "mimetype": "text/x-python",
   "name": "python",
   "nbconvert_exporter": "python",
   "pygments_lexer": "ipython3",
   "version": "3.7.7"
  }
 },
 "nbformat": 4,
 "nbformat_minor": 4
}
