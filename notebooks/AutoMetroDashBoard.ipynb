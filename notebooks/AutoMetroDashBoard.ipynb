{
 "cells": [
  {
   "cell_type": "code",
   "execution_count": 2,
   "metadata": {},
   "outputs": [],
   "source": [
    "from pathlib import Path\n",
    "import numpy as np\n",
    "import pandas as pd\n",
    "from omero_utils import widgets\n",
    "\n"
   ]
  },
  {
   "cell_type": "code",
   "execution_count": 3,
   "metadata": {},
   "outputs": [
    {
     "data": {
      "application/vnd.jupyter.widget-view+json": {
       "model_id": "374bdf3844644b878be1c40109edf475",
       "version_major": 2,
       "version_minor": 0
      },
      "text/plain": [
       "OMEConnect(children=(Text(value='', description='OME loggin'), Password(description='OME password'), Button(de…"
      ]
     },
     "metadata": {},
     "output_type": "display_data"
    }
   ],
   "source": [
    "m = widgets.OMEConnect(host=\"139.124.86.50\")\n",
    "m"
   ]
  },
  {
   "cell_type": "code",
   "execution_count": 4,
   "metadata": {},
   "outputs": [],
   "source": [
    "conn = m.conn\n",
    "base = Path(\"/home/guillaume/AmuBox/DataExchange/\")\n",
    "measure_hdf = base / \"measures_0_2020-04-29.hf5\"\n",
    "measures_ = pd.read_hdf(measure_hdf)\n",
    "\n",
    "\n",
    "measures = measures_[\n",
    "    (measures_.SNR > 0.4)\n",
    "    & (measures_.resolution < 20)\n",
    "    & (measures_.resolution > 2)\n",
    "].groupby('Id').apply(lambda df: df.loc[df[\"resolution\"].idxmin()])\n"
   ]
  },
  {
   "cell_type": "code",
   "execution_count": 10,
   "metadata": {
    "scrolled": false
   },
   "outputs": [
    {
     "data": {
      "application/vnd.jupyter.widget-view+json": {
       "model_id": "8baa3e3cdd754298b0d55742425b8913",
       "version_major": 2,
       "version_minor": 0
      },
      "text/plain": [
       "ImageScatterViz(children=(HBox(children=(VBox(children=(HTML(value='<a><h4>x axis</h4></a>'), Dropdown(index=1…"
      ]
     },
     "metadata": {},
     "output_type": "display_data"
    }
   ],
   "source": [
    "sc = widgets.ImageScatterViz(conn, measures, x='AquisitionDate', y='SNR', c='resolution', mouseover=False)\n",
    "sc"
   ]
  }
 ],
 "metadata": {
  "kernelspec": {
   "display_name": "Python 3",
   "language": "python",
   "name": "python3"
  },
  "language_info": {
   "codemirror_mode": {
    "name": "ipython",
    "version": 3
   },
   "file_extension": ".py",
   "mimetype": "text/x-python",
   "name": "python",
   "nbconvert_exporter": "python",
   "pygments_lexer": "ipython3",
   "version": "3.7.7"
  }
 },
 "nbformat": 4,
 "nbformat_minor": 4
}
