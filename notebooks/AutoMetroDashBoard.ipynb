{
 "cells": [
  {
   "cell_type": "code",
   "execution_count": 3,
   "metadata": {},
   "outputs": [],
   "source": [
    "import pandas as pd\n",
    "import altair as alt"
   ]
  },
  {
   "cell_type": "code",
   "execution_count": 4,
   "metadata": {},
   "outputs": [],
   "source": [
    "measures = pd.read_hdf(\"/home/guillaume/AmuBox/DataExchange/measures_10452_2020-04-20.hf5\")"
   ]
  },
  {
   "cell_type": "code",
   "execution_count": 5,
   "metadata": {},
   "outputs": [
    {
     "data": {
      "text/html": [
       "<div>\n",
       "<style scoped>\n",
       "    .dataframe tbody tr th:only-of-type {\n",
       "        vertical-align: middle;\n",
       "    }\n",
       "\n",
       "    .dataframe tbody tr th {\n",
       "        vertical-align: top;\n",
       "    }\n",
       "\n",
       "    .dataframe thead th {\n",
       "        text-align: right;\n",
       "    }\n",
       "</style>\n",
       "<table border=\"1\" class=\"dataframe\">\n",
       "  <thead>\n",
       "    <tr style=\"text-align: right;\">\n",
       "      <th></th>\n",
       "      <th>Id</th>\n",
       "      <th>AquisitionDate</th>\n",
       "      <th>LensNA</th>\n",
       "      <th>ChannelLabel</th>\n",
       "      <th>PhysicalSizeX</th>\n",
       "      <th>C</th>\n",
       "      <th>Z</th>\n",
       "      <th>T</th>\n",
       "      <th>SNR</th>\n",
       "      <th>resolution</th>\n",
       "    </tr>\n",
       "  </thead>\n",
       "  <tbody>\n",
       "    <tr>\n",
       "      <th>0</th>\n",
       "      <td>16437</td>\n",
       "      <td>2015-04-09 02:09:49</td>\n",
       "      <td>0.8</td>\n",
       "      <td>Ch2-T1</td>\n",
       "      <td>0.415133</td>\n",
       "      <td>0.0</td>\n",
       "      <td>0.0</td>\n",
       "      <td>0.0</td>\n",
       "      <td>0.000000</td>\n",
       "      <td>2.000000</td>\n",
       "    </tr>\n",
       "    <tr>\n",
       "      <th>1</th>\n",
       "      <td>16437</td>\n",
       "      <td>2015-04-09 02:09:49</td>\n",
       "      <td>0.8</td>\n",
       "      <td>Ch1-T2</td>\n",
       "      <td>0.415133</td>\n",
       "      <td>1.0</td>\n",
       "      <td>0.0</td>\n",
       "      <td>0.0</td>\n",
       "      <td>0.000000</td>\n",
       "      <td>2.000000</td>\n",
       "    </tr>\n",
       "    <tr>\n",
       "      <th>2</th>\n",
       "      <td>16437</td>\n",
       "      <td>2015-04-09 02:09:49</td>\n",
       "      <td>0.8</td>\n",
       "      <td>Ch2-T3</td>\n",
       "      <td>0.415133</td>\n",
       "      <td>2.0</td>\n",
       "      <td>0.0</td>\n",
       "      <td>0.0</td>\n",
       "      <td>0.000000</td>\n",
       "      <td>2.000000</td>\n",
       "    </tr>\n",
       "    <tr>\n",
       "      <th>0</th>\n",
       "      <td>16407</td>\n",
       "      <td>2015-04-09 02:09:49</td>\n",
       "      <td>0.8</td>\n",
       "      <td>Ch2-T1</td>\n",
       "      <td>0.415133</td>\n",
       "      <td>0.0</td>\n",
       "      <td>0.0</td>\n",
       "      <td>0.0</td>\n",
       "      <td>0.593301</td>\n",
       "      <td>4.023551</td>\n",
       "    </tr>\n",
       "    <tr>\n",
       "      <th>1</th>\n",
       "      <td>16407</td>\n",
       "      <td>2015-04-09 02:09:49</td>\n",
       "      <td>0.8</td>\n",
       "      <td>Ch1-T2</td>\n",
       "      <td>0.415133</td>\n",
       "      <td>1.0</td>\n",
       "      <td>0.0</td>\n",
       "      <td>0.0</td>\n",
       "      <td>0.000000</td>\n",
       "      <td>2.000000</td>\n",
       "    </tr>\n",
       "  </tbody>\n",
       "</table>\n",
       "</div>"
      ],
      "text/plain": [
       "      Id      AquisitionDate  LensNA ChannelLabel  PhysicalSizeX    C    Z  \\\n",
       "0  16437 2015-04-09 02:09:49     0.8       Ch2-T1       0.415133  0.0  0.0   \n",
       "1  16437 2015-04-09 02:09:49     0.8       Ch1-T2       0.415133  1.0  0.0   \n",
       "2  16437 2015-04-09 02:09:49     0.8       Ch2-T3       0.415133  2.0  0.0   \n",
       "0  16407 2015-04-09 02:09:49     0.8       Ch2-T1       0.415133  0.0  0.0   \n",
       "1  16407 2015-04-09 02:09:49     0.8       Ch1-T2       0.415133  1.0  0.0   \n",
       "\n",
       "     T       SNR  resolution  \n",
       "0  0.0  0.000000    2.000000  \n",
       "1  0.0  0.000000    2.000000  \n",
       "2  0.0  0.000000    2.000000  \n",
       "0  0.0  0.593301    4.023551  \n",
       "1  0.0  0.000000    2.000000  "
      ]
     },
     "execution_count": 5,
     "metadata": {},
     "output_type": "execute_result"
    }
   ],
   "source": [
    "measures.head()"
   ]
  },
  {
   "cell_type": "code",
   "execution_count": 6,
   "metadata": {},
   "outputs": [],
   "source": [
    "chart = alt.Chart(measures)"
   ]
  },
  {
   "cell_type": "code",
   "execution_count": 22,
   "metadata": {},
   "outputs": [
    {
     "data": {
      "text/html": [
       "\n",
       "<div id=\"altair-viz-3ff9158625e644cbafdb0a6ed3a1f863\"></div>\n",
       "<script type=\"text/javascript\">\n",
       "  (function(spec, embedOpt){\n",
       "    let outputDiv = document.currentScript.previousElementSibling;\n",
       "    if (outputDiv.id !== \"altair-viz-3ff9158625e644cbafdb0a6ed3a1f863\") {\n",
       "      outputDiv = document.getElementById(\"altair-viz-3ff9158625e644cbafdb0a6ed3a1f863\");\n",
       "    }\n",
       "    const paths = {\n",
       "      \"vega\": \"https://cdn.jsdelivr.net/npm//vega@5?noext\",\n",
       "      \"vega-lib\": \"https://cdn.jsdelivr.net/npm//vega-lib?noext\",\n",
       "      \"vega-lite\": \"https://cdn.jsdelivr.net/npm//vega-lite@4.8.1?noext\",\n",
       "      \"vega-embed\": \"https://cdn.jsdelivr.net/npm//vega-embed@6?noext\",\n",
       "    };\n",
       "\n",
       "    function loadScript(lib) {\n",
       "      return new Promise(function(resolve, reject) {\n",
       "        var s = document.createElement('script');\n",
       "        s.src = paths[lib];\n",
       "        s.async = true;\n",
       "        s.onload = () => resolve(paths[lib]);\n",
       "        s.onerror = () => reject(`Error loading script: ${paths[lib]}`);\n",
       "        document.getElementsByTagName(\"head\")[0].appendChild(s);\n",
       "      });\n",
       "    }\n",
       "\n",
       "    function showError(err) {\n",
       "      outputDiv.innerHTML = `<div class=\"error\" style=\"color:red;\">${err}</div>`;\n",
       "      throw err;\n",
       "    }\n",
       "\n",
       "    function displayChart(vegaEmbed) {\n",
       "      vegaEmbed(outputDiv, spec, embedOpt)\n",
       "        .catch(err => showError(`Javascript Error: ${err.message}<br>This usually means there's a typo in your chart specification. See the javascript console for the full traceback.`));\n",
       "    }\n",
       "\n",
       "    if(typeof define === \"function\" && define.amd) {\n",
       "      requirejs.config({paths});\n",
       "      require([\"vega-embed\"], displayChart, err => showError(`Error loading script: ${err.message}`));\n",
       "    } else if (typeof vegaEmbed === \"function\") {\n",
       "      displayChart(vegaEmbed);\n",
       "    } else {\n",
       "      loadScript(\"vega\")\n",
       "        .then(() => loadScript(\"vega-lite\"))\n",
       "        .then(() => loadScript(\"vega-embed\"))\n",
       "        .catch(showError)\n",
       "        .then(() => displayChart(vegaEmbed));\n",
       "    }\n",
       "  })({\"config\": {\"view\": {\"continuousWidth\": 400, \"continuousHeight\": 300}}, \"data\": {\"name\": \"data-89c6f1efc614c89bcae9aa2261f15019\"}, \"mark\": \"point\", \"encoding\": {\"color\": {\"condition\": {\"type\": \"nominal\", \"field\": \"ChannelLabel\", \"legend\": null, \"selection\": \"Channel :\"}, \"value\": \"lightgray\"}, \"tooltip\": {\"type\": \"nominal\", \"field\": \"AquisitionDate\"}, \"x\": {\"type\": \"quantitative\", \"field\": \"SNR\"}, \"y\": {\"type\": \"quantitative\", \"field\": \"resolution\"}}, \"selection\": {\"Channel :\": {\"type\": \"single\", \"fields\": [\"ChannelLabel\"], \"bind\": {\"input\": \"select\", \"options\": [\"Ch2-T1\", \"Ch1-T2\", \"Ch2-T3\"]}}, \"selector002\": {\"type\": \"interval\", \"bind\": \"scales\"}}, \"$schema\": \"https://vega.github.io/schema/vega-lite/v4.8.1.json\", \"datasets\": {\"data-89c6f1efc614c89bcae9aa2261f15019\": [{\"Id\": 16437, \"AquisitionDate\": \"2015-04-09T02:09:49\", \"LensNA\": 0.8, \"ChannelLabel\": \"Ch2-T1\", \"PhysicalSizeX\": 0.4151329104819196, \"C\": 0.0, \"Z\": 0.0, \"T\": 0.0, \"SNR\": 0.0, \"resolution\": 2.0}, {\"Id\": 16437, \"AquisitionDate\": \"2015-04-09T02:09:49\", \"LensNA\": 0.8, \"ChannelLabel\": \"Ch1-T2\", \"PhysicalSizeX\": 0.4151329104819196, \"C\": 1.0, \"Z\": 0.0, \"T\": 0.0, \"SNR\": 0.0, \"resolution\": 2.0}, {\"Id\": 16437, \"AquisitionDate\": \"2015-04-09T02:09:49\", \"LensNA\": 0.8, \"ChannelLabel\": \"Ch2-T3\", \"PhysicalSizeX\": 0.4151329104819196, \"C\": 2.0, \"Z\": 0.0, \"T\": 0.0, \"SNR\": 0.0, \"resolution\": 2.0}, {\"Id\": 16407, \"AquisitionDate\": \"2015-04-09T02:09:49\", \"LensNA\": 0.8, \"ChannelLabel\": \"Ch2-T1\", \"PhysicalSizeX\": 0.4151329104819196, \"C\": 0.0, \"Z\": 0.0, \"T\": 0.0, \"SNR\": 0.5933011429686946, \"resolution\": 4.0235510432761155}, {\"Id\": 16407, \"AquisitionDate\": \"2015-04-09T02:09:49\", \"LensNA\": 0.8, \"ChannelLabel\": \"Ch1-T2\", \"PhysicalSizeX\": 0.4151329104819196, \"C\": 1.0, \"Z\": 0.0, \"T\": 0.0, \"SNR\": 0.0, \"resolution\": 2.0}, {\"Id\": 16407, \"AquisitionDate\": \"2015-04-09T02:09:49\", \"LensNA\": 0.8, \"ChannelLabel\": \"Ch2-T3\", \"PhysicalSizeX\": 0.4151329104819196, \"C\": 2.0, \"Z\": 0.0, \"T\": 0.0, \"SNR\": 0.587110822113793, \"resolution\": 5.203765043308048}, {\"Id\": 16423, \"AquisitionDate\": \"2015-04-09T02:09:49\", \"LensNA\": 0.8, \"ChannelLabel\": \"Ch2-T1\", \"PhysicalSizeX\": 0.4151329104819196, \"C\": 0.0, \"Z\": 0.0, \"T\": 0.0, \"SNR\": 0.5815709717238845, \"resolution\": 4.003113427384387}, {\"Id\": 16423, \"AquisitionDate\": \"2015-04-09T02:09:49\", \"LensNA\": 0.8, \"ChannelLabel\": \"Ch1-T2\", \"PhysicalSizeX\": 0.4151329104819196, \"C\": 1.0, \"Z\": 0.0, \"T\": 0.0, \"SNR\": 0.4574515498372198, \"resolution\": 4.695334304401786}, {\"Id\": 16423, \"AquisitionDate\": \"2015-04-09T02:09:49\", \"LensNA\": 0.8, \"ChannelLabel\": \"Ch2-T3\", \"PhysicalSizeX\": 0.4151329104819196, \"C\": 2.0, \"Z\": 0.0, \"T\": 0.0, \"SNR\": 0.5369968835093983, \"resolution\": 4.959858176022823}, {\"Id\": 16410, \"AquisitionDate\": \"2015-04-09T02:09:49\", \"LensNA\": 0.8, \"ChannelLabel\": \"Ch2-T1\", \"PhysicalSizeX\": 0.4151329104819196, \"C\": 0.0, \"Z\": 0.0, \"T\": 0.0, \"SNR\": 0.6219094639076286, \"resolution\": 4.000952609015656}, {\"Id\": 16410, \"AquisitionDate\": \"2015-04-09T02:09:49\", \"LensNA\": 0.8, \"ChannelLabel\": \"Ch1-T2\", \"PhysicalSizeX\": 0.4151329104819196, \"C\": 1.0, \"Z\": 0.0, \"T\": 0.0, \"SNR\": 0.45031936022080066, \"resolution\": 2.0}, {\"Id\": 16410, \"AquisitionDate\": \"2015-04-09T02:09:49\", \"LensNA\": 0.8, \"ChannelLabel\": \"Ch2-T3\", \"PhysicalSizeX\": 0.4151329104819196, \"C\": 2.0, \"Z\": 0.0, \"T\": 0.0, \"SNR\": 0.6146583553789721, \"resolution\": 4.690655263930512}, {\"Id\": 16414, \"AquisitionDate\": \"2015-04-09T02:09:49\", \"LensNA\": 0.8, \"ChannelLabel\": \"Ch2-T1\", \"PhysicalSizeX\": 0.4151329104819196, \"C\": 0.0, \"Z\": 0.0, \"T\": 0.0, \"SNR\": 0.552743199715975, \"resolution\": 3.3664428970454696}, {\"Id\": 16414, \"AquisitionDate\": \"2015-04-09T02:09:49\", \"LensNA\": 0.8, \"ChannelLabel\": \"Ch1-T2\", \"PhysicalSizeX\": 0.4151329104819196, \"C\": 1.0, \"Z\": 0.0, \"T\": 0.0, \"SNR\": 0.41176763489539625, \"resolution\": 4.001235321574153}, {\"Id\": 16414, \"AquisitionDate\": \"2015-04-09T02:09:49\", \"LensNA\": 0.8, \"ChannelLabel\": \"Ch2-T3\", \"PhysicalSizeX\": 0.4151329104819196, \"C\": 2.0, \"Z\": 0.0, \"T\": 0.0, \"SNR\": 0.5161163211773073, \"resolution\": 3.232328117638691}, {\"Id\": 16420, \"AquisitionDate\": \"2015-04-09T02:09:49\", \"LensNA\": 0.8, \"ChannelLabel\": \"Ch2-T1\", \"PhysicalSizeX\": 0.4151329104819196, \"C\": 0.0, \"Z\": 0.0, \"T\": 0.0, \"SNR\": 0.41795084227846013, \"resolution\": 4.000048414813355}, {\"Id\": 16420, \"AquisitionDate\": \"2015-04-09T02:09:49\", \"LensNA\": 0.8, \"ChannelLabel\": \"Ch1-T2\", \"PhysicalSizeX\": 0.4151329104819196, \"C\": 1.0, \"Z\": 0.0, \"T\": 0.0, \"SNR\": 0.39760465924145927, \"resolution\": 4.269470788002794}, {\"Id\": 16420, \"AquisitionDate\": \"2015-04-09T02:09:49\", \"LensNA\": 0.8, \"ChannelLabel\": \"Ch2-T3\", \"PhysicalSizeX\": 0.4151329104819196, \"C\": 2.0, \"Z\": 0.0, \"T\": 0.0, \"SNR\": 0.5413156852323425, \"resolution\": 4.650024390830857}, {\"Id\": 16426, \"AquisitionDate\": \"2015-04-09T02:09:49\", \"LensNA\": 0.8, \"ChannelLabel\": \"Ch2-T1\", \"PhysicalSizeX\": 0.4151329104819196, \"C\": 0.0, \"Z\": 0.0, \"T\": 0.0, \"SNR\": 0.385674102635998, \"resolution\": 5.017483056631394}, {\"Id\": 16426, \"AquisitionDate\": \"2015-04-09T02:09:49\", \"LensNA\": 0.8, \"ChannelLabel\": \"Ch1-T2\", \"PhysicalSizeX\": 0.4151329104819196, \"C\": 1.0, \"Z\": 0.0, \"T\": 0.0, \"SNR\": 0.36305836743741027, \"resolution\": 4.521361659221769}, {\"Id\": 16426, \"AquisitionDate\": \"2015-04-09T02:09:49\", \"LensNA\": 0.8, \"ChannelLabel\": \"Ch2-T3\", \"PhysicalSizeX\": 0.4151329104819196, \"C\": 2.0, \"Z\": 0.0, \"T\": 0.0, \"SNR\": 0.6153734294507984, \"resolution\": 8.377139439943702}, {\"Id\": 16431, \"AquisitionDate\": \"2015-04-09T02:09:49\", \"LensNA\": 0.8, \"ChannelLabel\": \"Ch2-T1\", \"PhysicalSizeX\": 0.4151329104819196, \"C\": 0.0, \"Z\": 0.0, \"T\": 0.0, \"SNR\": 0.6264961582159855, \"resolution\": 4.03329468054843}, {\"Id\": 16431, \"AquisitionDate\": \"2015-04-09T02:09:49\", \"LensNA\": 0.8, \"ChannelLabel\": \"Ch1-T2\", \"PhysicalSizeX\": 0.4151329104819196, \"C\": 1.0, \"Z\": 0.0, \"T\": 0.0, \"SNR\": 0.30615607270114986, \"resolution\": 5.116843110754744}, {\"Id\": 16431, \"AquisitionDate\": \"2015-04-09T02:09:49\", \"LensNA\": 0.8, \"ChannelLabel\": \"Ch2-T3\", \"PhysicalSizeX\": 0.4151329104819196, \"C\": 2.0, \"Z\": 0.0, \"T\": 0.0, \"SNR\": 0.32949117022406327, \"resolution\": 5.516643068677995}, {\"Id\": 16404, \"AquisitionDate\": \"2015-04-09T02:09:49\", \"LensNA\": 0.8, \"ChannelLabel\": \"Ch2-T1\", \"PhysicalSizeX\": 0.4151329104819196, \"C\": 0.0, \"Z\": 0.0, \"T\": 0.0, \"SNR\": 0.5933000392834429, \"resolution\": 6.85125670859317}, {\"Id\": 16404, \"AquisitionDate\": \"2015-04-09T02:09:49\", \"LensNA\": 0.8, \"ChannelLabel\": \"Ch1-T2\", \"PhysicalSizeX\": 0.4151329104819196, \"C\": 1.0, \"Z\": 0.0, \"T\": 0.0, \"SNR\": 0.0, \"resolution\": 2.0}, {\"Id\": 16404, \"AquisitionDate\": \"2015-04-09T02:09:49\", \"LensNA\": 0.8, \"ChannelLabel\": \"Ch2-T3\", \"PhysicalSizeX\": 0.4151329104819196, \"C\": 2.0, \"Z\": 0.0, \"T\": 0.0, \"SNR\": 0.0, \"resolution\": 2.0}, {\"Id\": 16415, \"AquisitionDate\": \"2015-04-09T02:09:49\", \"LensNA\": 0.8, \"ChannelLabel\": \"Ch2-T1\", \"PhysicalSizeX\": 0.4151329104819196, \"C\": 0.0, \"Z\": 0.0, \"T\": 0.0, \"SNR\": 0.5684371596649795, \"resolution\": 3.385709475364804}, {\"Id\": 16415, \"AquisitionDate\": \"2015-04-09T02:09:49\", \"LensNA\": 0.8, \"ChannelLabel\": \"Ch1-T2\", \"PhysicalSizeX\": 0.4151329104819196, \"C\": 1.0, \"Z\": 0.0, \"T\": 0.0, \"SNR\": 0.39330892965014375, \"resolution\": 4.393564134424858}, {\"Id\": 16415, \"AquisitionDate\": \"2015-04-09T02:09:49\", \"LensNA\": 0.8, \"ChannelLabel\": \"Ch2-T3\", \"PhysicalSizeX\": 0.4151329104819196, \"C\": 2.0, \"Z\": 0.0, \"T\": 0.0, \"SNR\": 0.5974573725856747, \"resolution\": 3.751912301747576}, {\"Id\": 16429, \"AquisitionDate\": \"2015-04-09T02:09:49\", \"LensNA\": 0.8, \"ChannelLabel\": \"Ch2-T1\", \"PhysicalSizeX\": 0.4151329104819196, \"C\": 0.0, \"Z\": 0.0, \"T\": 0.0, \"SNR\": 0.4740572432349932, \"resolution\": 6.594137801989273}, {\"Id\": 16429, \"AquisitionDate\": \"2015-04-09T02:09:49\", \"LensNA\": 0.8, \"ChannelLabel\": \"Ch1-T2\", \"PhysicalSizeX\": 0.4151329104819196, \"C\": 1.0, \"Z\": 0.0, \"T\": 0.0, \"SNR\": 0.39520776636364485, \"resolution\": 5.089361055674142}, {\"Id\": 16429, \"AquisitionDate\": \"2015-04-09T02:09:49\", \"LensNA\": 0.8, \"ChannelLabel\": \"Ch2-T3\", \"PhysicalSizeX\": 0.4151329104819196, \"C\": 2.0, \"Z\": 0.0, \"T\": 0.0, \"SNR\": 0.4541595522505879, \"resolution\": 10.17542330721852}, {\"Id\": 16427, \"AquisitionDate\": \"2015-04-09T02:09:49\", \"LensNA\": 0.8, \"ChannelLabel\": \"Ch2-T1\", \"PhysicalSizeX\": 0.4151329104819196, \"C\": 0.0, \"Z\": 0.0, \"T\": 0.0, \"SNR\": 0.4774380290886575, \"resolution\": 6.265481910152539}, {\"Id\": 16427, \"AquisitionDate\": \"2015-04-09T02:09:49\", \"LensNA\": 0.8, \"ChannelLabel\": \"Ch1-T2\", \"PhysicalSizeX\": 0.4151329104819196, \"C\": 1.0, \"Z\": 0.0, \"T\": 0.0, \"SNR\": 0.37164680693905283, \"resolution\": 8.68851157483958}, {\"Id\": 16427, \"AquisitionDate\": \"2015-04-09T02:09:49\", \"LensNA\": 0.8, \"ChannelLabel\": \"Ch2-T3\", \"PhysicalSizeX\": 0.4151329104819196, \"C\": 2.0, \"Z\": 0.0, \"T\": 0.0, \"SNR\": 0.4447791935709864, \"resolution\": 9.622039037328932}, {\"Id\": 16422, \"AquisitionDate\": \"2015-04-09T02:09:49\", \"LensNA\": 0.8, \"ChannelLabel\": \"Ch2-T1\", \"PhysicalSizeX\": 0.4151329104819196, \"C\": 0.0, \"Z\": 0.0, \"T\": 0.0, \"SNR\": 0.6405599026540055, \"resolution\": 4.8404733075972795}, {\"Id\": 16422, \"AquisitionDate\": \"2015-04-09T02:09:49\", \"LensNA\": 0.8, \"ChannelLabel\": \"Ch1-T2\", \"PhysicalSizeX\": 0.4151329104819196, \"C\": 1.0, \"Z\": 0.0, \"T\": 0.0, \"SNR\": 0.5025683587292881, \"resolution\": 4.7001041733580875}, {\"Id\": 16422, \"AquisitionDate\": \"2015-04-09T02:09:49\", \"LensNA\": 0.8, \"ChannelLabel\": \"Ch2-T3\", \"PhysicalSizeX\": 0.4151329104819196, \"C\": 2.0, \"Z\": 0.0, \"T\": 0.0, \"SNR\": 0.5664475758939141, \"resolution\": 4.4711908092699035}, {\"Id\": 16408, \"AquisitionDate\": \"2015-04-09T02:09:49\", \"LensNA\": 0.8, \"ChannelLabel\": \"Ch2-T1\", \"PhysicalSizeX\": 0.4151329104819196, \"C\": 0.0, \"Z\": 0.0, \"T\": 0.0, \"SNR\": 0.555987332598187, \"resolution\": 3.8814212027225556}, {\"Id\": 16408, \"AquisitionDate\": \"2015-04-09T02:09:49\", \"LensNA\": 0.8, \"ChannelLabel\": \"Ch1-T2\", \"PhysicalSizeX\": 0.4151329104819196, \"C\": 1.0, \"Z\": 0.0, \"T\": 0.0, \"SNR\": 0.39939474070139047, \"resolution\": 6.843912154773224}, {\"Id\": 16408, \"AquisitionDate\": \"2015-04-09T02:09:49\", \"LensNA\": 0.8, \"ChannelLabel\": \"Ch2-T3\", \"PhysicalSizeX\": 0.4151329104819196, \"C\": 2.0, \"Z\": 0.0, \"T\": 0.0, \"SNR\": 0.5397872316034691, \"resolution\": 4.213957110259891}, {\"Id\": 16432, \"AquisitionDate\": \"2015-04-09T02:09:49\", \"LensNA\": 0.8, \"ChannelLabel\": \"Ch2-T1\", \"PhysicalSizeX\": 0.4151329104819196, \"C\": 0.0, \"Z\": 0.0, \"T\": 0.0, \"SNR\": 0.7371428695422706, \"resolution\": 16.231046311881162}, {\"Id\": 16432, \"AquisitionDate\": \"2015-04-09T02:09:49\", \"LensNA\": 0.8, \"ChannelLabel\": \"Ch1-T2\", \"PhysicalSizeX\": 0.4151329104819196, \"C\": 1.0, \"Z\": 0.0, \"T\": 0.0, \"SNR\": 0.3731597473316458, \"resolution\": 4.2627582680591285}, {\"Id\": 16432, \"AquisitionDate\": \"2015-04-09T02:09:49\", \"LensNA\": 0.8, \"ChannelLabel\": \"Ch2-T3\", \"PhysicalSizeX\": 0.4151329104819196, \"C\": 2.0, \"Z\": 0.0, \"T\": 0.0, \"SNR\": 0.6878712363751678, \"resolution\": 5.188055634828173}, {\"Id\": 16435, \"AquisitionDate\": \"2015-04-09T02:09:49\", \"LensNA\": 0.8, \"ChannelLabel\": \"Ch2-T1\", \"PhysicalSizeX\": 0.4151329104819196, \"C\": 0.0, \"Z\": 0.0, \"T\": 0.0, \"SNR\": 0.6334468395585524, \"resolution\": 4.259354068290036}, {\"Id\": 16435, \"AquisitionDate\": \"2015-04-09T02:09:49\", \"LensNA\": 0.8, \"ChannelLabel\": \"Ch1-T2\", \"PhysicalSizeX\": 0.4151329104819196, \"C\": 1.0, \"Z\": 0.0, \"T\": 0.0, \"SNR\": 0.2954043648390008, \"resolution\": 5.680377028786124}, {\"Id\": 16435, \"AquisitionDate\": \"2015-04-09T02:09:49\", \"LensNA\": 0.8, \"ChannelLabel\": \"Ch2-T3\", \"PhysicalSizeX\": 0.4151329104819196, \"C\": 2.0, \"Z\": 0.0, \"T\": 0.0, \"SNR\": 0.6208177292410098, \"resolution\": 5.558601441102023}, {\"Id\": 16411, \"AquisitionDate\": \"2015-04-09T02:09:49\", \"LensNA\": 0.8, \"ChannelLabel\": \"Ch2-T1\", \"PhysicalSizeX\": 0.4151329104819196, \"C\": 0.0, \"Z\": 0.0, \"T\": 0.0, \"SNR\": 0.5789913545896459, \"resolution\": 3.5143120098659772}, {\"Id\": 16411, \"AquisitionDate\": \"2015-04-09T02:09:49\", \"LensNA\": 0.8, \"ChannelLabel\": \"Ch1-T2\", \"PhysicalSizeX\": 0.4151329104819196, \"C\": 1.0, \"Z\": 0.0, \"T\": 0.0, \"SNR\": 0.40822318416100256, \"resolution\": 8.55480593701813}, {\"Id\": 16411, \"AquisitionDate\": \"2015-04-09T02:09:49\", \"LensNA\": 0.8, \"ChannelLabel\": \"Ch2-T3\", \"PhysicalSizeX\": 0.4151329104819196, \"C\": 2.0, \"Z\": 0.0, \"T\": 0.0, \"SNR\": 0.5831475213874515, \"resolution\": 4.079537483268714}, {\"Id\": 16413, \"AquisitionDate\": \"2015-04-09T02:09:49\", \"LensNA\": 0.8, \"ChannelLabel\": \"Ch2-T1\", \"PhysicalSizeX\": 0.4151329104819196, \"C\": 0.0, \"Z\": 0.0, \"T\": 0.0, \"SNR\": 0.6183489765372934, \"resolution\": 3.4569030381974284}, {\"Id\": 16413, \"AquisitionDate\": \"2015-04-09T02:09:49\", \"LensNA\": 0.8, \"ChannelLabel\": \"Ch1-T2\", \"PhysicalSizeX\": 0.4151329104819196, \"C\": 1.0, \"Z\": 0.0, \"T\": 0.0, \"SNR\": 0.46922949220773646, \"resolution\": 4.706587620422639}, {\"Id\": 16413, \"AquisitionDate\": \"2015-04-09T02:09:49\", \"LensNA\": 0.8, \"ChannelLabel\": \"Ch2-T3\", \"PhysicalSizeX\": 0.4151329104819196, \"C\": 2.0, \"Z\": 0.0, \"T\": 0.0, \"SNR\": 0.5956686613290385, \"resolution\": 4.076874185496391}, {\"Id\": 16436, \"AquisitionDate\": \"2015-04-09T02:09:49\", \"LensNA\": 0.8, \"ChannelLabel\": \"Ch2-T1\", \"PhysicalSizeX\": 0.4151329104819196, \"C\": 0.0, \"Z\": 0.0, \"T\": 0.0, \"SNR\": 0.7098531575846246, \"resolution\": 118.38264753945408}, {\"Id\": 16436, \"AquisitionDate\": \"2015-04-09T02:09:49\", \"LensNA\": 0.8, \"ChannelLabel\": \"Ch1-T2\", \"PhysicalSizeX\": 0.4151329104819196, \"C\": 1.0, \"Z\": 0.0, \"T\": 0.0, \"SNR\": 0.6390816334544432, \"resolution\": 12.90275048348643}, {\"Id\": 16436, \"AquisitionDate\": \"2015-04-09T02:09:49\", \"LensNA\": 0.8, \"ChannelLabel\": \"Ch2-T3\", \"PhysicalSizeX\": 0.4151329104819196, \"C\": 2.0, \"Z\": 0.0, \"T\": 0.0, \"SNR\": 0.6516830309617477, \"resolution\": 8.605242567582899}, {\"Id\": 16434, \"AquisitionDate\": \"2015-04-09T02:09:49\", \"LensNA\": 0.8, \"ChannelLabel\": \"Ch2-T1\", \"PhysicalSizeX\": 0.4151329104819196, \"C\": 0.0, \"Z\": 0.0, \"T\": 0.0, \"SNR\": 0.6018451797287527, \"resolution\": 9.793943149791202}, {\"Id\": 16434, \"AquisitionDate\": \"2015-04-09T02:09:49\", \"LensNA\": 0.8, \"ChannelLabel\": \"Ch1-T2\", \"PhysicalSizeX\": 0.4151329104819196, \"C\": 1.0, \"Z\": 0.0, \"T\": 0.0, \"SNR\": 0.27668985728563933, \"resolution\": 5.3494711704230795}, {\"Id\": 16434, \"AquisitionDate\": \"2015-04-09T02:09:49\", \"LensNA\": 0.8, \"ChannelLabel\": \"Ch2-T3\", \"PhysicalSizeX\": 0.4151329104819196, \"C\": 2.0, \"Z\": 0.0, \"T\": 0.0, \"SNR\": 0.5901842512837319, \"resolution\": 10.133368988431016}, {\"Id\": 16425, \"AquisitionDate\": \"2015-04-09T02:09:49\", \"LensNA\": 0.8, \"ChannelLabel\": \"Ch2-T1\", \"PhysicalSizeX\": 0.4151329104819196, \"C\": 0.0, \"Z\": 0.0, \"T\": 0.0, \"SNR\": 0.4625832620718744, \"resolution\": 5.230664869466302}, {\"Id\": 16425, \"AquisitionDate\": \"2015-04-09T02:09:49\", \"LensNA\": 0.8, \"ChannelLabel\": \"Ch1-T2\", \"PhysicalSizeX\": 0.4151329104819196, \"C\": 1.0, \"Z\": 0.0, \"T\": 0.0, \"SNR\": 0.47867336420176176, \"resolution\": 4.01221805406114}, {\"Id\": 16425, \"AquisitionDate\": \"2015-04-09T02:09:49\", \"LensNA\": 0.8, \"ChannelLabel\": \"Ch2-T3\", \"PhysicalSizeX\": 0.4151329104819196, \"C\": 2.0, \"Z\": 0.0, \"T\": 0.0, \"SNR\": 0.5073469340034007, \"resolution\": 9.228364073780668}, {\"Id\": 16417, \"AquisitionDate\": \"2015-04-09T02:09:49\", \"LensNA\": 0.8, \"ChannelLabel\": \"Ch2-T1\", \"PhysicalSizeX\": 0.4151329104819196, \"C\": 0.0, \"Z\": 0.0, \"T\": 0.0, \"SNR\": 0.6374527220998961, \"resolution\": 3.235088111286007}, {\"Id\": 16417, \"AquisitionDate\": \"2015-04-09T02:09:49\", \"LensNA\": 0.8, \"ChannelLabel\": \"Ch1-T2\", \"PhysicalSizeX\": 0.4151329104819196, \"C\": 1.0, \"Z\": 0.0, \"T\": 0.0, \"SNR\": 0.4595843742229455, \"resolution\": 4.555373301982214}, {\"Id\": 16417, \"AquisitionDate\": \"2015-04-09T02:09:49\", \"LensNA\": 0.8, \"ChannelLabel\": \"Ch2-T3\", \"PhysicalSizeX\": 0.4151329104819196, \"C\": 2.0, \"Z\": 0.0, \"T\": 0.0, \"SNR\": 0.5961230900525394, \"resolution\": 4.079424098743759}, {\"Id\": 16409, \"AquisitionDate\": \"2015-04-09T02:09:49\", \"LensNA\": 0.8, \"ChannelLabel\": \"Ch2-T1\", \"PhysicalSizeX\": 0.4151329104819196, \"C\": 0.0, \"Z\": 0.0, \"T\": 0.0, \"SNR\": 0.6369396994913861, \"resolution\": 4.690530412963016}, {\"Id\": 16409, \"AquisitionDate\": \"2015-04-09T02:09:49\", \"LensNA\": 0.8, \"ChannelLabel\": \"Ch1-T2\", \"PhysicalSizeX\": 0.4151329104819196, \"C\": 1.0, \"Z\": 0.0, \"T\": 0.0, \"SNR\": 0.0, \"resolution\": 2.0}, {\"Id\": 16409, \"AquisitionDate\": \"2015-04-09T02:09:49\", \"LensNA\": 0.8, \"ChannelLabel\": \"Ch2-T3\", \"PhysicalSizeX\": 0.4151329104819196, \"C\": 2.0, \"Z\": 0.0, \"T\": 0.0, \"SNR\": 0.6187821666412181, \"resolution\": 6.642789551002856}, {\"Id\": 16419, \"AquisitionDate\": \"2015-04-09T02:09:49\", \"LensNA\": 0.8, \"ChannelLabel\": \"Ch2-T1\", \"PhysicalSizeX\": 0.4151329104819196, \"C\": 0.0, \"Z\": 0.0, \"T\": 0.0, \"SNR\": 0.49947145219302835, \"resolution\": 3.7850043324191023}, {\"Id\": 16419, \"AquisitionDate\": \"2015-04-09T02:09:49\", \"LensNA\": 0.8, \"ChannelLabel\": \"Ch1-T2\", \"PhysicalSizeX\": 0.4151329104819196, \"C\": 1.0, \"Z\": 0.0, \"T\": 0.0, \"SNR\": 0.422803235259291, \"resolution\": 4.338585747504565}, {\"Id\": 16419, \"AquisitionDate\": \"2015-04-09T02:09:49\", \"LensNA\": 0.8, \"ChannelLabel\": \"Ch2-T3\", \"PhysicalSizeX\": 0.4151329104819196, \"C\": 2.0, \"Z\": 0.0, \"T\": 0.0, \"SNR\": 0.5129839937394162, \"resolution\": 4.8346025355755184}, {\"Id\": 16412, \"AquisitionDate\": \"2015-04-09T02:09:49\", \"LensNA\": 0.8, \"ChannelLabel\": \"Ch2-T1\", \"PhysicalSizeX\": 0.4151329104819196, \"C\": 0.0, \"Z\": 0.0, \"T\": 0.0, \"SNR\": 0.5892405554333041, \"resolution\": 3.5188833796886314}, {\"Id\": 16412, \"AquisitionDate\": \"2015-04-09T02:09:49\", \"LensNA\": 0.8, \"ChannelLabel\": \"Ch1-T2\", \"PhysicalSizeX\": 0.4151329104819196, \"C\": 1.0, \"Z\": 0.0, \"T\": 0.0, \"SNR\": 0.4151078196196335, \"resolution\": 4.748263459247481}, {\"Id\": 16412, \"AquisitionDate\": \"2015-04-09T02:09:49\", \"LensNA\": 0.8, \"ChannelLabel\": \"Ch2-T3\", \"PhysicalSizeX\": 0.4151329104819196, \"C\": 2.0, \"Z\": 0.0, \"T\": 0.0, \"SNR\": 0.5953595866814747, \"resolution\": 4.527544154571536}, {\"Id\": 16421, \"AquisitionDate\": \"2015-04-09T02:09:49\", \"LensNA\": 0.8, \"ChannelLabel\": \"Ch2-T1\", \"PhysicalSizeX\": 0.4151329104819196, \"C\": 0.0, \"Z\": 0.0, \"T\": 0.0, \"SNR\": 0.6397385540732966, \"resolution\": 4.08048272806385}, {\"Id\": 16421, \"AquisitionDate\": \"2015-04-09T02:09:49\", \"LensNA\": 0.8, \"ChannelLabel\": \"Ch1-T2\", \"PhysicalSizeX\": 0.4151329104819196, \"C\": 1.0, \"Z\": 0.0, \"T\": 0.0, \"SNR\": 0.4473259606025195, \"resolution\": 4.6762995262979645}, {\"Id\": 16421, \"AquisitionDate\": \"2015-04-09T02:09:49\", \"LensNA\": 0.8, \"ChannelLabel\": \"Ch2-T3\", \"PhysicalSizeX\": 0.4151329104819196, \"C\": 2.0, \"Z\": 0.0, \"T\": 0.0, \"SNR\": 0.6229595074372898, \"resolution\": 4.368561702164321}, {\"Id\": 16416, \"AquisitionDate\": \"2015-04-09T02:09:49\", \"LensNA\": 0.8, \"ChannelLabel\": \"Ch2-T1\", \"PhysicalSizeX\": 0.4151329104819196, \"C\": 0.0, \"Z\": 0.0, \"T\": 0.0, \"SNR\": 0.6074144394226761, \"resolution\": 3.812558599785159}, {\"Id\": 16416, \"AquisitionDate\": \"2015-04-09T02:09:49\", \"LensNA\": 0.8, \"ChannelLabel\": \"Ch1-T2\", \"PhysicalSizeX\": 0.4151329104819196, \"C\": 1.0, \"Z\": 0.0, \"T\": 0.0, \"SNR\": 0.44769770526533104, \"resolution\": 4.389429220154701}, {\"Id\": 16416, \"AquisitionDate\": \"2015-04-09T02:09:49\", \"LensNA\": 0.8, \"ChannelLabel\": \"Ch2-T3\", \"PhysicalSizeX\": 0.4151329104819196, \"C\": 2.0, \"Z\": 0.0, \"T\": 0.0, \"SNR\": 0.6249047927313741, \"resolution\": 4.044134960647276}, {\"Id\": 16406, \"AquisitionDate\": \"2015-04-09T02:09:49\", \"LensNA\": 0.8, \"ChannelLabel\": \"Ch2-T1\", \"PhysicalSizeX\": 0.4151329104819196, \"C\": 0.0, \"Z\": 0.0, \"T\": 0.0, \"SNR\": 0.6568967784196047, \"resolution\": 9.069197119049878}, {\"Id\": 16406, \"AquisitionDate\": \"2015-04-09T02:09:49\", \"LensNA\": 0.8, \"ChannelLabel\": \"Ch1-T2\", \"PhysicalSizeX\": 0.4151329104819196, \"C\": 1.0, \"Z\": 0.0, \"T\": 0.0, \"SNR\": 0.0, \"resolution\": 2.0}, {\"Id\": 16406, \"AquisitionDate\": \"2015-04-09T02:09:49\", \"LensNA\": 0.8, \"ChannelLabel\": \"Ch2-T3\", \"PhysicalSizeX\": 0.4151329104819196, \"C\": 2.0, \"Z\": 0.0, \"T\": 0.0, \"SNR\": 0.5399383099795294, \"resolution\": 2.0}, {\"Id\": 16438, \"AquisitionDate\": \"2015-04-09T02:09:49\", \"LensNA\": 0.8, \"ChannelLabel\": \"Ch2-T1\", \"PhysicalSizeX\": 0.4151329104819196, \"C\": 0.0, \"Z\": 0.0, \"T\": 0.0, \"SNR\": 0.0, \"resolution\": 2.0}, {\"Id\": 16438, \"AquisitionDate\": \"2015-04-09T02:09:49\", \"LensNA\": 0.8, \"ChannelLabel\": \"Ch1-T2\", \"PhysicalSizeX\": 0.4151329104819196, \"C\": 1.0, \"Z\": 0.0, \"T\": 0.0, \"SNR\": 0.0, \"resolution\": 2.0}, {\"Id\": 16438, \"AquisitionDate\": \"2015-04-09T02:09:49\", \"LensNA\": 0.8, \"ChannelLabel\": \"Ch2-T3\", \"PhysicalSizeX\": 0.4151329104819196, \"C\": 2.0, \"Z\": 0.0, \"T\": 0.0, \"SNR\": 0.0, \"resolution\": 2.0}, {\"Id\": 16433, \"AquisitionDate\": \"2015-04-09T02:09:49\", \"LensNA\": 0.8, \"ChannelLabel\": \"Ch2-T1\", \"PhysicalSizeX\": 0.4151329104819196, \"C\": 0.0, \"Z\": 0.0, \"T\": 0.0, \"SNR\": 0.7121833076481878, \"resolution\": 20.487628485712992}, {\"Id\": 16433, \"AquisitionDate\": \"2015-04-09T02:09:49\", \"LensNA\": 0.8, \"ChannelLabel\": \"Ch1-T2\", \"PhysicalSizeX\": 0.4151329104819196, \"C\": 1.0, \"Z\": 0.0, \"T\": 0.0, \"SNR\": 0.7043627771118554, \"resolution\": 9.274697165462888}, {\"Id\": 16433, \"AquisitionDate\": \"2015-04-09T02:09:49\", \"LensNA\": 0.8, \"ChannelLabel\": \"Ch2-T3\", \"PhysicalSizeX\": 0.4151329104819196, \"C\": 2.0, \"Z\": 0.0, \"T\": 0.0, \"SNR\": 0.684412486330016, \"resolution\": 11.175479537175468}, {\"Id\": 16430, \"AquisitionDate\": \"2015-04-09T02:09:49\", \"LensNA\": 0.8, \"ChannelLabel\": \"Ch2-T1\", \"PhysicalSizeX\": 0.4151329104819196, \"C\": 0.0, \"Z\": 0.0, \"T\": 0.0, \"SNR\": 0.3596732509455909, \"resolution\": 5.235610999591502}, {\"Id\": 16430, \"AquisitionDate\": \"2015-04-09T02:09:49\", \"LensNA\": 0.8, \"ChannelLabel\": \"Ch1-T2\", \"PhysicalSizeX\": 0.4151329104819196, \"C\": 1.0, \"Z\": 0.0, \"T\": 0.0, \"SNR\": 0.3382017389502051, \"resolution\": 4.651313173765806}, {\"Id\": 16430, \"AquisitionDate\": \"2015-04-09T02:09:49\", \"LensNA\": 0.8, \"ChannelLabel\": \"Ch2-T3\", \"PhysicalSizeX\": 0.4151329104819196, \"C\": 2.0, \"Z\": 0.0, \"T\": 0.0, \"SNR\": 0.6011340797707893, \"resolution\": 9.574474160803394}, {\"Id\": 16428, \"AquisitionDate\": \"2015-04-09T02:09:49\", \"LensNA\": 0.8, \"ChannelLabel\": \"Ch2-T1\", \"PhysicalSizeX\": 0.4151329104819196, \"C\": 0.0, \"Z\": 0.0, \"T\": 0.0, \"SNR\": 0.507566963797692, \"resolution\": 4.887156357775273}, {\"Id\": 16428, \"AquisitionDate\": \"2015-04-09T02:09:49\", \"LensNA\": 0.8, \"ChannelLabel\": \"Ch1-T2\", \"PhysicalSizeX\": 0.4151329104819196, \"C\": 1.0, \"Z\": 0.0, \"T\": 0.0, \"SNR\": 0.42482068907537107, \"resolution\": 5.002863396168498}, {\"Id\": 16428, \"AquisitionDate\": \"2015-04-09T02:09:49\", \"LensNA\": 0.8, \"ChannelLabel\": \"Ch2-T3\", \"PhysicalSizeX\": 0.4151329104819196, \"C\": 2.0, \"Z\": 0.0, \"T\": 0.0, \"SNR\": 0.49147441942548453, \"resolution\": 12.125845680380245}, {\"Id\": 16403, \"AquisitionDate\": \"2015-04-09T02:09:49\", \"LensNA\": 0.8, \"ChannelLabel\": \"Ch2-T1\", \"PhysicalSizeX\": 0.4151329104819196, \"C\": 0.0, \"Z\": 0.0, \"T\": 0.0, \"SNR\": 0.5822417657649416, \"resolution\": 2.0}, {\"Id\": 16403, \"AquisitionDate\": \"2015-04-09T02:09:49\", \"LensNA\": 0.8, \"ChannelLabel\": \"Ch1-T2\", \"PhysicalSizeX\": 0.4151329104819196, \"C\": 1.0, \"Z\": 0.0, \"T\": 0.0, \"SNR\": 0.0, \"resolution\": 2.0}, {\"Id\": 16403, \"AquisitionDate\": \"2015-04-09T02:09:49\", \"LensNA\": 0.8, \"ChannelLabel\": \"Ch2-T3\", \"PhysicalSizeX\": 0.4151329104819196, \"C\": 2.0, \"Z\": 0.0, \"T\": 0.0, \"SNR\": 0.0, \"resolution\": 2.0}, {\"Id\": 16405, \"AquisitionDate\": \"2015-04-09T02:09:49\", \"LensNA\": 0.8, \"ChannelLabel\": \"Ch2-T1\", \"PhysicalSizeX\": 0.4151329104819196, \"C\": 0.0, \"Z\": 0.0, \"T\": 0.0, \"SNR\": 0.6619130681934365, \"resolution\": 9.978908222023026}, {\"Id\": 16405, \"AquisitionDate\": \"2015-04-09T02:09:49\", \"LensNA\": 0.8, \"ChannelLabel\": \"Ch1-T2\", \"PhysicalSizeX\": 0.4151329104819196, \"C\": 1.0, \"Z\": 0.0, \"T\": 0.0, \"SNR\": 0.0, \"resolution\": 2.0}, {\"Id\": 16405, \"AquisitionDate\": \"2015-04-09T02:09:49\", \"LensNA\": 0.8, \"ChannelLabel\": \"Ch2-T3\", \"PhysicalSizeX\": 0.4151329104819196, \"C\": 2.0, \"Z\": 0.0, \"T\": 0.0, \"SNR\": 0.0, \"resolution\": 2.0}, {\"Id\": 16424, \"AquisitionDate\": \"2015-04-09T02:09:49\", \"LensNA\": 0.8, \"ChannelLabel\": \"Ch2-T1\", \"PhysicalSizeX\": 0.4151329104819196, \"C\": 0.0, \"Z\": 0.0, \"T\": 0.0, \"SNR\": 0.5112704108576214, \"resolution\": 4.137270434208024}, {\"Id\": 16424, \"AquisitionDate\": \"2015-04-09T02:09:49\", \"LensNA\": 0.8, \"ChannelLabel\": \"Ch1-T2\", \"PhysicalSizeX\": 0.4151329104819196, \"C\": 1.0, \"Z\": 0.0, \"T\": 0.0, \"SNR\": 0.44997618274478046, \"resolution\": 4.352828590419822}, {\"Id\": 16424, \"AquisitionDate\": \"2015-04-09T02:09:49\", \"LensNA\": 0.8, \"ChannelLabel\": \"Ch2-T3\", \"PhysicalSizeX\": 0.4151329104819196, \"C\": 2.0, \"Z\": 0.0, \"T\": 0.0, \"SNR\": 0.5669736460448647, \"resolution\": 5.149880801095123}, {\"Id\": 16418, \"AquisitionDate\": \"2015-04-09T02:09:49\", \"LensNA\": 0.8, \"ChannelLabel\": \"Ch2-T1\", \"PhysicalSizeX\": 0.4151329104819196, \"C\": 0.0, \"Z\": 0.0, \"T\": 0.0, \"SNR\": 0.6294550587716393, \"resolution\": 3.389416824190459}, {\"Id\": 16418, \"AquisitionDate\": \"2015-04-09T02:09:49\", \"LensNA\": 0.8, \"ChannelLabel\": \"Ch1-T2\", \"PhysicalSizeX\": 0.4151329104819196, \"C\": 1.0, \"Z\": 0.0, \"T\": 0.0, \"SNR\": 0.47601095002022786, \"resolution\": 4.273208182113848}, {\"Id\": 16418, \"AquisitionDate\": \"2015-04-09T02:09:49\", \"LensNA\": 0.8, \"ChannelLabel\": \"Ch2-T3\", \"PhysicalSizeX\": 0.4151329104819196, \"C\": 2.0, \"Z\": 0.0, \"T\": 0.0, \"SNR\": 0.5239424262461697, \"resolution\": 4.582022372383623}]}}, {\"mode\": \"vega-lite\"});\n",
       "</script>"
      ],
      "text/plain": [
       "alt.Chart(...)"
      ]
     },
     "execution_count": 22,
     "metadata": {},
     "output_type": "execute_result"
    }
   ],
   "source": [
    "zoom = alt.selection_interval(bind='scales')\n",
    "\n",
    "input_dropdown = alt.binding_select(\n",
    "    options=measures['ChannelLabel'].unique()\n",
    ")\n",
    "\n",
    "selection = alt.selection_single(\n",
    "    fields=['ChannelLabel'],\n",
    "    bind=input_dropdown,\n",
    "    name='Channel :')\n",
    "\n",
    "color = alt.condition(\n",
    "    selection,\n",
    "    alt.Color('ChannelLabel:N', legend=None),\n",
    "    alt.value('lightgray')\n",
    ")\n",
    "\n",
    "\n",
    "chart.mark_point().encode(\n",
    "    x=\"SNR\",\n",
    "    y=\"resolution\",\n",
    "    color=color,\n",
    "    tooltip=\"AquisitionDate:N\"\n",
    ").add_selection(\n",
    "    selection\n",
    ").add_selection(\n",
    "    zoom\n",
    ")\n"
   ]
  },
  {
   "cell_type": "code",
   "execution_count": 23,
   "metadata": {},
   "outputs": [
    {
     "ename": "ModuleNotFoundError",
     "evalue": "No module named 'omero'",
     "output_type": "error",
     "traceback": [
      "\u001b[0;31m---------------------------------------------------------------------------\u001b[0m",
      "\u001b[0;31mModuleNotFoundError\u001b[0m                       Traceback (most recent call last)",
      "\u001b[0;32m<ipython-input-23-b7874b7edac0>\u001b[0m in \u001b[0;36m<module>\u001b[0;34m\u001b[0m\n\u001b[0;32m----> 1\u001b[0;31m \u001b[0;32mimport\u001b[0m \u001b[0momero\u001b[0m\u001b[0;34m\u001b[0m\u001b[0;34m\u001b[0m\u001b[0m\n\u001b[0m",
      "\u001b[0;31mModuleNotFoundError\u001b[0m: No module named 'omero'"
     ]
    }
   ],
   "source": [
    "import omero"
   ]
  },
  {
   "cell_type": "code",
   "execution_count": null,
   "metadata": {},
   "outputs": [],
   "source": []
  }
 ],
 "metadata": {
  "kernelspec": {
   "display_name": "Python 3",
   "language": "python",
   "name": "python3"
  },
  "language_info": {
   "codemirror_mode": {
    "name": "ipython",
    "version": 3
   },
   "file_extension": ".py",
   "mimetype": "text/x-python",
   "name": "python",
   "nbconvert_exporter": "python",
   "pygments_lexer": "ipython3",
   "version": "3.7.6"
  }
 },
 "nbformat": 4,
 "nbformat_minor": 4
}
