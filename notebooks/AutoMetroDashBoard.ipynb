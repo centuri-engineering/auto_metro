{
 "cells": [
  {
   "cell_type": "code",
   "execution_count": 66,
   "metadata": {},
   "outputs": [],
   "source": [
    "import json\n",
    "import base64\n",
    "from functools import partial\n",
    "from pathlib import Path\n",
    "import numpy as np\n",
    "import imageio\n",
    "import pandas as pd\n",
    "from bqplot import (\n",
    "    Figure,\n",
    "    Scatter,\n",
    "    LinearScale,\n",
    "    Axis,\n",
    "    Toolbar,\n",
    "    Label,\n",
    "    ColorAxis,\n",
    "    ColorScale,\n",
    "    OrdinalColorScale\n",
    ")\n",
    "import ipywidgets as widgets\n",
    "from IPython.display import display\n"
   ]
  },
  {
   "cell_type": "code",
   "execution_count": 77,
   "metadata": {},
   "outputs": [],
   "source": [
    "# Thanks https://towardsdatascience.com/bring-your-jupyter-notebook-to-life-with-interactive-widgets-bc12e03f0916\n",
    "\n",
    "def html_thumb(thumb):\n",
    "    return f\"\"\"<img src=\"data:image/jpg;base64,{thumb}\">\"\"\"\n",
    "\n",
    "class MeasureViz(widgets.VBox):\n",
    "    \n",
    "    def __init__(self, measure_hdf, thumbs_json):\n",
    "        \n",
    "        measures = pd.read_hdf(measure_hdf)\n",
    "        channels = measures[\"C\"]\n",
    "        self.measures = measures.set_index(['Id', 'C', \"Z\", \"T\"])\n",
    "        self.sheet = widgets.Output()\n",
    "        \n",
    "        with open(thumbs_json, 'r') as fh:\n",
    "            thumbs = json.load(fh)\n",
    "        self.thumbs = {int(k): th for k, th in thumbs.items()}\n",
    "        self.goto = widgets.HTML('')\n",
    "        x_sc = LinearScale()\n",
    "        y_sc = LinearScale()\n",
    "        c_sc = ColorScale(scheme=\"PuBuGn\")\n",
    "    \n",
    "        c_ord = OrdinalColorScale(colors=['DodgerBlue', 'SeaGreen', 'HotPink', 'OrangeRed'])\n",
    "        self.scat = Scatter(\n",
    "            x=self.measures[\"SNR\"],\n",
    "            y=self.measures[\"resolution\"].clip(0, 20),\n",
    "            color=channels,\n",
    "            scales={\n",
    "                \"x\": x_sc,\n",
    "                \"y\": y_sc,\n",
    "                \"color\": c_ord,\n",
    "            },\n",
    "            names=self.measures.index.to_list(),\n",
    "            display_names=False,\n",
    "            fill=True,\n",
    "            default_opacities=[0.6,],\n",
    "        )\n",
    "        ax_x = Axis(\n",
    "            scale=x_sc,\n",
    "            label=\"SNR\",\n",
    "            tick_format='0.2f'\n",
    "        )\n",
    "        ax_y = Axis(\n",
    "            scale=y_sc,\n",
    "            label='Resolution',\n",
    "            orientation=\"vertical\"\n",
    "        )\n",
    "    \n",
    "        self.scat.on_element_click(self.goto_db)\n",
    "        self.scat.on_element_click(self.show_data)\n",
    "        self.scat.on_hover(self.show_thumb)\n",
    "        self.scat.tooltip = widgets.HTML(\"\")\n",
    "\n",
    "        self.fig = Figure(\n",
    "            marks=[self.scat,],\n",
    "            axes=[ax_x, ax_y],\n",
    "        )\n",
    "        super().__init__([self.fig, widgets.HBox([self.goto, self.sheet])])\n",
    "        \n",
    "    def show_thumb(self, cbk, target):\n",
    "        name = target['data'][\"name\"]\n",
    "        self.scat.tooltip = widgets.HTML(html_thumb(self.thumbs.get(name[\"0\"], \"\")))\n",
    "\n",
    "    def goto_db(self, cbk, target):\n",
    "        name = target['data'][\"name\"]\n",
    "        idx = name[\"0\"]\n",
    "        html_ = html_thumb(self.thumbs.get(idx, \"\"))\n",
    "        if html_:\n",
    "            url = f\"http://139.124.81.38:4080/webclient/img_detail/{idx}\"\n",
    "            self.goto.value = (f'<p><hr></p><a href={url} target=\"_blank\">{html_}</a><h4><hr>n°{idx}<hr></h4>')\n",
    "\n",
    "    def show_data(self, cbk, target):\n",
    "        self.sheet.clear_output()\n",
    "        name = target['data'][\"name\"]\n",
    "        mv.measures.loc[16437]\n",
    "        _highlight = partial(highlight_, idx=tuple(name.values())[1:])\n",
    "        with self.sheet:\n",
    "            display(self.measures.loc[name[\"0\"]].style.apply(_highlight))\n",
    "            \n",
    "def highlight_(df, idx):\n",
    "    return [\n",
    "        'background: lightblue' if idx_ == idx\n",
    "        else '' for idx_, _ in df.iteritems()\n",
    "    ]\n",
    "            \n"
   ]
  },
  {
   "cell_type": "code",
   "execution_count": 78,
   "metadata": {
    "scrolled": false
   },
   "outputs": [
    {
     "data": {
      "application/vnd.jupyter.widget-view+json": {
       "model_id": "ba1a9f1b79484679a5c0dc1d31206d57",
       "version_major": 2,
       "version_minor": 0
      },
      "text/plain": [
       "MeasureViz(children=(Figure(axes=[Axis(label='SNR', scale=LinearScale(), tick_format='0.2f'), Axis(label='Reso…"
      ]
     },
     "metadata": {},
     "output_type": "display_data"
    }
   ],
   "source": [
    "base = Path(\"/home/guillaume/AmuBox/DataExchange/\")\n",
    "measure_hdf = base / \"measures_10452_2020-04-20.hf5\"\n",
    "thumbs = base / \"thumbs.json\"\n",
    "\n",
    "mv = MeasureViz(measure_hdf, thumbs)\n",
    "mv"
   ]
  },
  {
   "cell_type": "code",
   "execution_count": null,
   "metadata": {},
   "outputs": [],
   "source": []
  }
 ],
 "metadata": {
  "kernelspec": {
   "display_name": "Python 3",
   "language": "python",
   "name": "python3"
  },
  "language_info": {
   "codemirror_mode": {
    "name": "ipython",
    "version": 3
   },
   "file_extension": ".py",
   "mimetype": "text/x-python",
   "name": "python",
   "nbconvert_exporter": "python",
   "pygments_lexer": "ipython3",
   "version": "3.8.1"
  }
 },
 "nbformat": 4,
 "nbformat_minor": 4
}
