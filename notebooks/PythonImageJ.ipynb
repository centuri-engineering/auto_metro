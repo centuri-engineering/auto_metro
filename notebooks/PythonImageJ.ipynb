{
 "cells": [
  {
   "cell_type": "code",
   "execution_count": 1,
   "metadata": {},
   "outputs": [
    {
     "name": "stderr",
     "output_type": "stream",
     "text": [
      "The JVM is already running.\n"
     ]
    },
    {
     "data": {
      "text/plain": [
       "'2.0.0-rc-72'"
      ]
     },
     "execution_count": 1,
     "metadata": {},
     "output_type": "execute_result"
    }
   ],
   "source": [
    "import scyjava_config\n",
    "scyjava_config.add_options('-Xmx6g')\n",
    "\n",
    "import imagej\n",
    "ij = imagej.init()\n",
    "\n",
    "ij = imagej.init(\"~/Fiji.app/\")\n",
    "ij.getVersion()\n",
    "\n"
   ]
  },
  {
   "cell_type": "code",
   "execution_count": 2,
   "metadata": {},
   "outputs": [
    {
     "data": {
      "text/plain": [
       "'ImageJ 2.0.0-rc-72; Java 1.8.0_192 [amd64]; 31MB of 5461MB'"
      ]
     },
     "execution_count": 2,
     "metadata": {},
     "output_type": "execute_result"
    }
   ],
   "source": [
    "ij.getApp().getInfo(True)\n"
   ]
  },
  {
   "cell_type": "code",
   "execution_count": 3,
   "metadata": {},
   "outputs": [],
   "source": [
    "op_service = ij.op()"
   ]
  },
  {
   "cell_type": "code",
   "execution_count": 4,
   "metadata": {},
   "outputs": [
    {
     "data": {
      "text/plain": [
       "array([[ 5., 12.],\n",
       "       [21., 32.]])"
      ]
     },
     "execution_count": 4,
     "metadata": {},
     "output_type": "execute_result"
    }
   ],
   "source": [
    "\n",
    "\n",
    "import numpy as np\n",
    "arr1 = np.array([[1, 2], [3, 4]])\n",
    "arr2 = np.array([[5, 6], [7, 8]])\n",
    "arr_output = ij.py.new_numpy_image(arr1)\n",
    "\n",
    "ij.op().run('multiply', ij.py.to_java(arr_output), ij.py.to_java(arr1), ij.py.to_java(arr2))\n",
    "arr_output\n",
    "\n"
   ]
  },
  {
   "cell_type": "code",
   "execution_count": 13,
   "metadata": {},
   "outputs": [
    {
     "data": {
      "text/plain": [
       "<module 'imglyb' from '/home/guillaume/miniconda3/envs/ijpy/lib/python3.7/site-packages/imglyb/__init__.py'>"
      ]
     },
     "execution_count": 13,
     "metadata": {},
     "output_type": "execute_result"
    }
   ],
   "source": [
    "import imglyb\n",
    "imglyb"
   ]
  },
  {
   "cell_type": "code",
   "execution_count": 22,
   "metadata": {},
   "outputs": [
    {
     "name": "stdout",
     "output_type": "stream",
     "text": [
      "name: ijpy\r\n",
      "channels:\r\n",
      "  - conda-forge\r\n",
      "  - defaults\r\n",
      "dependencies:\r\n",
      "  - _libgcc_mutex=0.1=conda_forge\r\n",
      "  - _openmp_mutex=4.5=1_llvm\r\n",
      "  - attrs=19.3.0=py_0\r\n",
      "  - backcall=0.1.0=py_0\r\n",
      "  - bleach=3.1.3=pyh8c360ce_0\r\n",
      "  - ca-certificates=2019.11.28=hecc5488_0\r\n",
      "  - certifi=2019.11.28=py37hc8dfbb8_1\r\n",
      "  - cycler=0.10.0=py_2\r\n",
      "  - dbus=1.13.6=he372182_0\r\n",
      "  - decorator=4.4.2=py_0\r\n",
      "  - defusedxml=0.6.0=py_0\r\n",
      "  - entrypoints=0.3=py37hc8dfbb8_1001\r\n",
      "  - expat=2.2.9=he1b5a44_2\r\n",
      "  - fontconfig=2.13.1=h86ecdb6_1001\r\n",
      "  - freetype=2.10.1=he06d7ca_0\r\n",
      "  - gettext=0.19.8.1=hc5be6a0_1002\r\n",
      "  - glib=2.58.3=py37he00f558_1003\r\n",
      "  - gst-plugins-base=1.14.5=h0935bb2_2\r\n",
      "  - gstreamer=1.14.5=h36ae1b5_2\r\n",
      "  - icu=64.2=he1b5a44_1\r\n",
      "  - imglyb=0.3.5=py37h5ca1d4c_0\r\n",
      "  - importlib-metadata=1.5.0=py37hc8dfbb8_1\r\n",
      "  - importlib_metadata=1.5.0=1\r\n",
      "  - ipykernel=5.2.0=py37h43977f1_0\r\n",
      "  - ipython=7.13.0=py37hc8dfbb8_2\r\n",
      "  - ipython_genutils=0.2.0=py_1\r\n",
      "  - ipywidgets=7.5.1=py_0\r\n",
      "  - jedi=0.16.0=py37hc8dfbb8_1\r\n",
      "  - jgo=0.5.0=py37hc8dfbb8_1\r\n",
      "  - jinja2=2.11.1=py_0\r\n",
      "  - jpeg=9c=h14c3975_1001\r\n",
      "  - jsonschema=3.2.0=py37hc8dfbb8_1\r\n",
      "  - jupyter=1.0.0=py_2\r\n",
      "  - jupyter_client=6.1.0=py_0\r\n",
      "  - jupyter_console=6.1.0=py_1\r\n",
      "  - jupyter_core=4.6.3=py37hc8dfbb8_1\r\n",
      "  - kiwisolver=1.1.0=py37h99015e2_1\r\n",
      "  - ld_impl_linux-64=2.34=h53a641e_0\r\n",
      "  - libblas=3.8.0=16_openblas\r\n",
      "  - libcblas=3.8.0=16_openblas\r\n",
      "  - libclang=9.0.1=default_hde54327_0\r\n",
      "  - libffi=3.2.1=he1b5a44_1007\r\n",
      "  - libgcc-ng=9.2.0=h24d8f2e_2\r\n",
      "  - libgfortran-ng=7.3.0=hdf63c60_5\r\n",
      "  - libiconv=1.15=h516909a_1006\r\n",
      "  - liblapack=3.8.0=16_openblas\r\n",
      "  - libllvm9=9.0.1=hc9558a2_0\r\n",
      "  - libopenblas=0.3.9=h5ec1e0e_0\r\n",
      "  - libpng=1.6.37=hed695b0_1\r\n",
      "  - libsodium=1.0.17=h516909a_0\r\n",
      "  - libstdcxx-ng=9.2.0=hdf63c60_2\r\n",
      "  - libuuid=2.32.1=h14c3975_1000\r\n",
      "  - libxcb=1.13=h14c3975_1002\r\n",
      "  - libxkbcommon=0.10.0=he1b5a44_0\r\n",
      "  - libxml2=2.9.10=hee79883_0\r\n",
      "  - llvm-openmp=9.0.1=hc9558a2_2\r\n",
      "  - markupsafe=1.1.1=py37h8f50634_1\r\n",
      "  - matplotlib=3.2.1=0\r\n",
      "  - matplotlib-base=3.2.1=py37h30547a4_0\r\n",
      "  - maven=3.6.0=0\r\n",
      "  - mistune=0.8.4=py37h516909a_1000\r\n",
      "  - nbconvert=5.6.1=py37_0\r\n",
      "  - nbformat=5.0.4=py_0\r\n",
      "  - ncurses=6.1=hf484d3e_1002\r\n",
      "  - notebook=6.0.3=py37_0\r\n",
      "  - nspr=4.25=he1b5a44_0\r\n",
      "  - nss=3.47=he751ad9_0\r\n",
      "  - numpy=1.18.1=py37h8960a57_1\r\n",
      "  - openjdk=8.0.192=h516909a_1004\r\n",
      "  - openssl=1.1.1e=h516909a_0\r\n",
      "  - pandoc=2.9.2=0\r\n",
      "  - pandocfilters=1.4.2=py_1\r\n",
      "  - parso=0.6.2=py_0\r\n",
      "  - pcre=8.44=he1b5a44_0\r\n",
      "  - pexpect=4.8.0=py37hc8dfbb8_1\r\n",
      "  - pickleshare=0.7.5=py37hc8dfbb8_1001\r\n",
      "  - pip=20.0.2=py_2\r\n",
      "  - prometheus_client=0.7.1=py_0\r\n",
      "  - prompt-toolkit=3.0.4=py_0\r\n",
      "  - prompt_toolkit=3.0.4=0\r\n",
      "  - psutil=5.7.0=py37h8f50634_1\r\n",
      "  - pthread-stubs=0.4=h14c3975_1001\r\n",
      "  - ptyprocess=0.6.0=py_1001\r\n",
      "  - pygments=2.6.1=py_0\r\n",
      "  - pyimagej=0.5.0=py37_0\r\n",
      "  - pyjnius=1.2.0=py37h93af967_0\r\n",
      "  - pyparsing=2.4.6=py_0\r\n",
      "  - pyqt=5.12.3=py37hcca6a23_1\r\n",
      "  - pyrsistent=0.16.0=py37h8f50634_0\r\n",
      "  - python=3.7.6=h8356626_5_cpython\r\n",
      "  - python-dateutil=2.8.1=py_0\r\n",
      "  - python_abi=3.7=1_cp37m\r\n",
      "  - pyzmq=19.0.0=py37hac76be4_1\r\n",
      "  - qt=5.12.5=hd8c4c69_1\r\n",
      "  - qtconsole=4.7.1=py_0\r\n",
      "  - qtpy=1.9.0=py_0\r\n",
      "  - readline=8.0=hf8c457e_0\r\n",
      "  - scyjava=0.4.0=py37_0\r\n",
      "  - send2trash=1.5.0=py_0\r\n",
      "  - setuptools=46.1.1=py37hc8dfbb8_0\r\n",
      "  - six=1.14.0=py_1\r\n",
      "  - sqlite=3.30.1=hcee41ef_0\r\n",
      "  - terminado=0.8.3=py37hc8dfbb8_1\r\n",
      "  - testpath=0.4.4=py_0\r\n",
      "  - tk=8.6.10=hed695b0_0\r\n",
      "  - tornado=6.0.4=py37h8f50634_1\r\n",
      "  - traitlets=4.3.3=py37hc8dfbb8_1\r\n",
      "  - wcwidth=0.1.8=py_0\r\n",
      "  - webencodings=0.5.1=py_1\r\n",
      "  - wheel=0.34.2=py_1\r\n",
      "  - widgetsnbextension=3.5.1=py37_0\r\n",
      "  - xorg-libxau=1.0.9=h14c3975_0\r\n",
      "  - xorg-libxdmcp=1.1.3=h516909a_0\r\n",
      "  - xz=5.2.4=h516909a_1002\r\n",
      "  - zeromq=4.3.2=he1b5a44_2\r\n",
      "  - zipp=3.1.0=py_0\r\n",
      "  - zlib=1.2.11=h516909a_1006\r\n",
      "  - pip:\r\n",
      "    - pyqt5-sip==4.19.18\r\n",
      "    - pyqtwebengine==5.12.1\r\n",
      "prefix: /home/guillaume/miniconda3/envs/ijpy\r\n",
      "\r\n"
     ]
    }
   ],
   "source": [
    "!conda env export\n"
   ]
  },
  {
   "cell_type": "code",
   "execution_count": 5,
   "metadata": {},
   "outputs": [
    {
     "ename": "JavaException",
     "evalue": "JVM exception occurred: java.lang.NullPointerException",
     "output_type": "error",
     "traceback": [
      "\u001b[0;31m---------------------------------------------------------------------------\u001b[0m",
      "\u001b[0;31mJavaException\u001b[0m                             Traceback (most recent call last)",
      "\u001b[0;32m<ipython-input-5-59dadf47136c>\u001b[0m in \u001b[0;36m<module>\u001b[0;34m\u001b[0m\n\u001b[1;32m     11\u001b[0m     \u001b[0;34m'city'\u001b[0m\u001b[0;34m:\u001b[0m \u001b[0;34m'Nowhere'\u001b[0m\u001b[0;34m\u001b[0m\u001b[0;34m\u001b[0m\u001b[0m\n\u001b[1;32m     12\u001b[0m }\n\u001b[0;32m---> 13\u001b[0;31m \u001b[0mresult\u001b[0m \u001b[0;34m=\u001b[0m \u001b[0mij\u001b[0m\u001b[0;34m.\u001b[0m\u001b[0mpy\u001b[0m\u001b[0;34m.\u001b[0m\u001b[0mrun_macro\u001b[0m\u001b[0;34m(\u001b[0m\u001b[0mmacro\u001b[0m\u001b[0;34m,\u001b[0m \u001b[0margs\u001b[0m\u001b[0;34m)\u001b[0m\u001b[0;34m\u001b[0m\u001b[0;34m\u001b[0m\u001b[0m\n\u001b[0m\u001b[1;32m     14\u001b[0m \u001b[0mprint\u001b[0m\u001b[0;34m(\u001b[0m\u001b[0mresult\u001b[0m\u001b[0;34m.\u001b[0m\u001b[0mgetOutput\u001b[0m\u001b[0;34m(\u001b[0m\u001b[0;34m'greeting'\u001b[0m\u001b[0;34m)\u001b[0m\u001b[0;34m)\u001b[0m\u001b[0;34m\u001b[0m\u001b[0;34m\u001b[0m\u001b[0m\n",
      "\u001b[0;32m~/miniconda3/envs/ijpy/lib/python3.7/site-packages/imagej/imagej.py\u001b[0m in \u001b[0;36mrun_macro\u001b[0;34m(self, macro, args)\u001b[0m\n\u001b[1;32m    199\u001b[0m             \u001b[0;32mexcept\u001b[0m \u001b[0mException\u001b[0m \u001b[0;32mas\u001b[0m \u001b[0mexc\u001b[0m\u001b[0;34m:\u001b[0m\u001b[0;34m\u001b[0m\u001b[0;34m\u001b[0m\u001b[0m\n\u001b[1;32m    200\u001b[0m                 \u001b[0m_dump_exception\u001b[0m\u001b[0;34m(\u001b[0m\u001b[0mexc\u001b[0m\u001b[0;34m)\u001b[0m\u001b[0;34m\u001b[0m\u001b[0;34m\u001b[0m\u001b[0m\n\u001b[0;32m--> 201\u001b[0;31m                 \u001b[0;32mraise\u001b[0m \u001b[0mexc\u001b[0m\u001b[0;34m\u001b[0m\u001b[0;34m\u001b[0m\u001b[0m\n\u001b[0m\u001b[1;32m    202\u001b[0m \u001b[0;34m\u001b[0m\u001b[0m\n\u001b[1;32m    203\u001b[0m         \u001b[0;32mdef\u001b[0m \u001b[0mrun_script\u001b[0m\u001b[0;34m(\u001b[0m\u001b[0mself\u001b[0m\u001b[0;34m,\u001b[0m \u001b[0mlanguage\u001b[0m\u001b[0;34m,\u001b[0m \u001b[0mscript\u001b[0m\u001b[0;34m,\u001b[0m \u001b[0margs\u001b[0m\u001b[0;34m=\u001b[0m\u001b[0;32mNone\u001b[0m\u001b[0;34m)\u001b[0m\u001b[0;34m:\u001b[0m\u001b[0;34m\u001b[0m\u001b[0;34m\u001b[0m\u001b[0m\n",
      "\u001b[0;32m~/miniconda3/envs/ijpy/lib/python3.7/site-packages/imagej/imagej.py\u001b[0m in \u001b[0;36mrun_macro\u001b[0;34m(self, macro, args)\u001b[0m\n\u001b[1;32m    196\u001b[0m                     \u001b[0;32mreturn\u001b[0m \u001b[0mself\u001b[0m\u001b[0;34m.\u001b[0m\u001b[0m_ij\u001b[0m\u001b[0;34m.\u001b[0m\u001b[0mscript\u001b[0m\u001b[0;34m(\u001b[0m\u001b[0;34m)\u001b[0m\u001b[0;34m.\u001b[0m\u001b[0mrun\u001b[0m\u001b[0;34m(\u001b[0m\u001b[0;34m\"macro.ijm\"\u001b[0m\u001b[0;34m,\u001b[0m \u001b[0mmacro\u001b[0m\u001b[0;34m,\u001b[0m \u001b[0;32mTrue\u001b[0m\u001b[0;34m)\u001b[0m\u001b[0;34m.\u001b[0m\u001b[0mget\u001b[0m\u001b[0;34m(\u001b[0m\u001b[0;34m)\u001b[0m\u001b[0;34m\u001b[0m\u001b[0;34m\u001b[0m\u001b[0m\n\u001b[1;32m    197\u001b[0m                 \u001b[0;32melse\u001b[0m\u001b[0;34m:\u001b[0m\u001b[0;34m\u001b[0m\u001b[0;34m\u001b[0m\u001b[0m\n\u001b[0;32m--> 198\u001b[0;31m                     \u001b[0;32mreturn\u001b[0m \u001b[0mself\u001b[0m\u001b[0;34m.\u001b[0m\u001b[0m_ij\u001b[0m\u001b[0;34m.\u001b[0m\u001b[0mscript\u001b[0m\u001b[0;34m(\u001b[0m\u001b[0;34m)\u001b[0m\u001b[0;34m.\u001b[0m\u001b[0mrun\u001b[0m\u001b[0;34m(\u001b[0m\u001b[0;34m\"macro.ijm\"\u001b[0m\u001b[0;34m,\u001b[0m \u001b[0mmacro\u001b[0m\u001b[0;34m,\u001b[0m \u001b[0;32mTrue\u001b[0m\u001b[0;34m,\u001b[0m \u001b[0mto_java\u001b[0m\u001b[0;34m(\u001b[0m\u001b[0margs\u001b[0m\u001b[0;34m)\u001b[0m\u001b[0;34m)\u001b[0m\u001b[0;34m.\u001b[0m\u001b[0mget\u001b[0m\u001b[0;34m(\u001b[0m\u001b[0;34m)\u001b[0m\u001b[0;34m\u001b[0m\u001b[0;34m\u001b[0m\u001b[0m\n\u001b[0m\u001b[1;32m    199\u001b[0m             \u001b[0;32mexcept\u001b[0m \u001b[0mException\u001b[0m \u001b[0;32mas\u001b[0m \u001b[0mexc\u001b[0m\u001b[0;34m:\u001b[0m\u001b[0;34m\u001b[0m\u001b[0;34m\u001b[0m\u001b[0m\n\u001b[1;32m    200\u001b[0m                 \u001b[0m_dump_exception\u001b[0m\u001b[0;34m(\u001b[0m\u001b[0mexc\u001b[0m\u001b[0;34m)\u001b[0m\u001b[0;34m\u001b[0m\u001b[0;34m\u001b[0m\u001b[0m\n",
      "\u001b[0;32mjnius/jnius_export_class.pxi\u001b[0m in \u001b[0;36mjnius.JavaMultipleMethod.__call__\u001b[0;34m()\u001b[0m\n",
      "\u001b[0;32mjnius/jnius_export_class.pxi\u001b[0m in \u001b[0;36mjnius.JavaMethod.__call__\u001b[0;34m()\u001b[0m\n",
      "\u001b[0;32mjnius/jnius_export_class.pxi\u001b[0m in \u001b[0;36mjnius.JavaMethod.call_method\u001b[0;34m()\u001b[0m\n",
      "\u001b[0;32mjnius/jnius_utils.pxi\u001b[0m in \u001b[0;36mjnius.check_exception\u001b[0;34m()\u001b[0m\n",
      "\u001b[0;31mJavaException\u001b[0m: JVM exception occurred: java.lang.NullPointerException"
     ]
    }
   ],
   "source": [
    "macro = \"\"\"\n",
    "#@ String name\n",
    "#@ int age\n",
    "#@ String city\n",
    "#@output Object greeting\n",
    "greeting = \"Hello \" + name + \". You are \" + age + \" years old, and live in \" + city + \".\"\n",
    "\"\"\"\n",
    "args = {\n",
    "    'name': 'Chuckles',\n",
    "    'age': 13,\n",
    "    'city': 'Nowhere'\n",
    "}\n",
    "result = ij.py.run_macro(macro, args)\n",
    "print(result.getOutput('greeting'))\n"
   ]
  },
  {
   "cell_type": "code",
   "execution_count": 6,
   "metadata": {},
   "outputs": [],
   "source": [
    "import jnius"
   ]
  },
  {
   "cell_type": "code",
   "execution_count": 8,
   "metadata": {},
   "outputs": [
    {
     "data": {
      "text/plain": [
       "'1.2.0'"
      ]
     },
     "execution_count": 8,
     "metadata": {},
     "output_type": "execute_result"
    }
   ],
   "source": [
    "jnius.__version__"
   ]
  },
  {
   "cell_type": "code",
   "execution_count": 7,
   "metadata": {},
   "outputs": [
    {
     "ename": "JavaException",
     "evalue": "Class not found b'ij/WindowManager'",
     "output_type": "error",
     "traceback": [
      "\u001b[0;31m---------------------------------------------------------------------------\u001b[0m",
      "\u001b[0;31mJavaException\u001b[0m                             Traceback (most recent call last)",
      "\u001b[0;32m<ipython-input-7-443e96a08496>\u001b[0m in \u001b[0;36m<module>\u001b[0;34m\u001b[0m\n\u001b[1;32m      1\u001b[0m \u001b[0;32mfrom\u001b[0m \u001b[0mjnius\u001b[0m \u001b[0;32mimport\u001b[0m \u001b[0mautoclass\u001b[0m\u001b[0;34m\u001b[0m\u001b[0;34m\u001b[0m\u001b[0m\n\u001b[0;32m----> 2\u001b[0;31m \u001b[0mWindowManager\u001b[0m \u001b[0;34m=\u001b[0m \u001b[0mautoclass\u001b[0m\u001b[0;34m(\u001b[0m\u001b[0;34m'ij.WindowManager'\u001b[0m\u001b[0;34m)\u001b[0m\u001b[0;34m\u001b[0m\u001b[0;34m\u001b[0m\u001b[0m\n\u001b[0m\u001b[1;32m      3\u001b[0m \u001b[0mij\u001b[0m\u001b[0;34m.\u001b[0m\u001b[0mpy\u001b[0m\u001b[0;34m.\u001b[0m\u001b[0mrun_macro\u001b[0m\u001b[0;34m(\u001b[0m\u001b[0;34m\"\"\"run(\"Blobs (25K)\");\"\"\"\u001b[0m\u001b[0;34m)\u001b[0m\u001b[0;34m\u001b[0m\u001b[0;34m\u001b[0m\u001b[0m\n\u001b[1;32m      4\u001b[0m \u001b[0mblobs\u001b[0m \u001b[0;34m=\u001b[0m \u001b[0mWindowManager\u001b[0m\u001b[0;34m.\u001b[0m\u001b[0mgetCurrentImage\u001b[0m\u001b[0;34m(\u001b[0m\u001b[0;34m)\u001b[0m\u001b[0;34m\u001b[0m\u001b[0;34m\u001b[0m\u001b[0m\n\u001b[1;32m      5\u001b[0m \u001b[0mprint\u001b[0m\u001b[0;34m(\u001b[0m\u001b[0mblobs\u001b[0m\u001b[0;34m)\u001b[0m\u001b[0;34m\u001b[0m\u001b[0;34m\u001b[0m\u001b[0m\n",
      "\u001b[0;32m~/miniconda3/envs/ijpy/lib/python3.7/site-packages/jnius/reflect.py\u001b[0m in \u001b[0;36mautoclass\u001b[0;34m(clsname)\u001b[0m\n\u001b[1;32m    157\u001b[0m \u001b[0;34m\u001b[0m\u001b[0m\n\u001b[1;32m    158\u001b[0m     \u001b[0;31m# c = Class.forName(clsname)\u001b[0m\u001b[0;34m\u001b[0m\u001b[0;34m\u001b[0m\u001b[0;34m\u001b[0m\u001b[0m\n\u001b[0;32m--> 159\u001b[0;31m     \u001b[0mc\u001b[0m \u001b[0;34m=\u001b[0m \u001b[0mfind_javaclass\u001b[0m\u001b[0;34m(\u001b[0m\u001b[0mclsname\u001b[0m\u001b[0;34m)\u001b[0m\u001b[0;34m\u001b[0m\u001b[0;34m\u001b[0m\u001b[0m\n\u001b[0m\u001b[1;32m    160\u001b[0m     \u001b[0;32mif\u001b[0m \u001b[0mc\u001b[0m \u001b[0;32mis\u001b[0m \u001b[0;32mNone\u001b[0m\u001b[0;34m:\u001b[0m\u001b[0;34m\u001b[0m\u001b[0;34m\u001b[0m\u001b[0m\n\u001b[1;32m    161\u001b[0m         \u001b[0;32mraise\u001b[0m \u001b[0mException\u001b[0m\u001b[0;34m(\u001b[0m\u001b[0;34m'Java class {0} not found'\u001b[0m\u001b[0;34m.\u001b[0m\u001b[0mformat\u001b[0m\u001b[0;34m(\u001b[0m\u001b[0mc\u001b[0m\u001b[0;34m)\u001b[0m\u001b[0;34m)\u001b[0m\u001b[0;34m\u001b[0m\u001b[0;34m\u001b[0m\u001b[0m\n",
      "\u001b[0;32mjnius/jnius_export_func.pxi\u001b[0m in \u001b[0;36mjnius.find_javaclass\u001b[0;34m()\u001b[0m\n",
      "\u001b[0;31mJavaException\u001b[0m: Class not found b'ij/WindowManager'"
     ]
    }
   ],
   "source": [
    "from jnius import autoclass\n",
    "WindowManager = autoclass('ij.WindowManager')\n",
    "ij.py.run_macro(\"\"\"run(\"Blobs (25K)\");\"\"\")\n",
    "blobs = WindowManager.getCurrentImage()\n",
    "print(blobs)\n"
   ]
  },
  {
   "cell_type": "code",
   "execution_count": null,
   "metadata": {},
   "outputs": [],
   "source": []
  }
 ],
 "metadata": {
  "kernelspec": {
   "display_name": "Python 3",
   "language": "python",
   "name": "python3"
  },
  "language_info": {
   "codemirror_mode": {
    "name": "ipython",
    "version": 3
   },
   "file_extension": ".py",
   "mimetype": "text/x-python",
   "name": "python",
   "nbconvert_exporter": "python",
   "pygments_lexer": "ipython3",
   "version": "3.7.6"
  }
 },
 "nbformat": 4,
 "nbformat_minor": 4
}
